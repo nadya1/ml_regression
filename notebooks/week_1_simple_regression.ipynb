{
 "cells": [
  {
   "cell_type": "markdown",
   "metadata": {},
   "source": [
    "# Regression Week 1: Simple Linear Regression"
   ]
  },
  {
   "cell_type": "markdown",
   "metadata": {},
   "source": [
    "In this notebook we will use data on house sales in King County to predict house prices using simple (one input) linear regression. You will:\n",
    "* Use graphlab SArray and SFrame functions to compute important summary statistics\n",
    "* Write a function to compute the Simple Linear Regression weights using the closed form solution\n",
    "* Write a function to make predictions of the output given the input feature\n",
    "* Turn the regression around to predict the input given the output\n",
    "* Compare two different models for predicting house prices\n",
    "\n",
    "In this notebook you will be provided with some already complete code as well as some code that you should complete yourself in order to answer quiz questions. The code we provide to complte is optional and is there to assist you with solving the problems but feel free to ignore the helper code and write your own."
   ]
  },
  {
   "cell_type": "markdown",
   "metadata": {},
   "source": [
    "# Fire up graphlab create"
   ]
  },
  {
   "cell_type": "code",
   "execution_count": 1,
   "metadata": {
    "collapsed": true
   },
   "outputs": [],
   "source": [
    "import graphlab"
   ]
  },
  {
   "cell_type": "markdown",
   "metadata": {},
   "source": [
    "# Load house sales data\n",
    "\n",
    "Dataset is from house sales in King County, the region where the city of Seattle, WA is located."
   ]
  },
  {
   "cell_type": "code",
   "execution_count": 2,
   "metadata": {},
   "outputs": [
    {
     "name": "stdout",
     "output_type": "stream",
     "text": [
      "This non-commercial license of GraphLab Create for academic use is assigned to nadyaortiza@gmail.com and will expire on April 02, 2018.\n"
     ]
    },
    {
     "name": "stderr",
     "output_type": "stream",
     "text": [
      "[INFO] graphlab.cython.cy_server: GraphLab Create v2.1 started. Logging: /tmp/graphlab_server_1494995124.log\n"
     ]
    }
   ],
   "source": [
    "sales = graphlab.SFrame('../../data_sets/kc_house_data.gl/')"
   ]
  },
  {
   "cell_type": "markdown",
   "metadata": {},
   "source": [
    "# Split data into training and testing"
   ]
  },
  {
   "cell_type": "markdown",
   "metadata": {},
   "source": [
    "We use seed=0 so that everyone running this notebook gets the same results.  In practice, you may set a random seed (or let GraphLab Create pick a random seed for you).  "
   ]
  },
  {
   "cell_type": "code",
   "execution_count": 3,
   "metadata": {},
   "outputs": [
    {
     "data": {
      "application/javascript": [
       "$(\"head\").append($(\"<link/>\").attr({\n",
       "  rel:  \"stylesheet\",\n",
       "  type: \"text/css\",\n",
       "  href: \"//cdnjs.cloudflare.com/ajax/libs/font-awesome/4.1.0/css/font-awesome.min.css\"\n",
       "}));\n",
       "$(\"head\").append($(\"<link/>\").attr({\n",
       "  rel:  \"stylesheet\",\n",
       "  type: \"text/css\",\n",
       "  href: \"https://static.turi.com/products/graphlab-create/2.1/canvas/css/canvas.css\"\n",
       "}));\n",
       "\n",
       "            (function(){\n",
       "\n",
       "                var e = null;\n",
       "                if (typeof element == 'undefined') {\n",
       "                    var scripts = document.getElementsByTagName('script');\n",
       "                    var thisScriptTag = scripts[scripts.length-1];\n",
       "                    var parentDiv = thisScriptTag.parentNode;\n",
       "                    e = document.createElement('div');\n",
       "                    parentDiv.appendChild(e);\n",
       "                } else {\n",
       "                    e = element[0];\n",
       "                }\n",
       "\n",
       "                if (typeof requirejs !== 'undefined') {\n",
       "                    // disable load timeout; ipython_app.js is large and can take a while to load.\n",
       "                    requirejs.config({waitSeconds: 0});\n",
       "                }\n",
       "\n",
       "                require(['https://static.turi.com/products/graphlab-create/2.1/canvas/js/ipython_app.js'], function(IPythonApp){\n",
       "                    var app = new IPythonApp();\n",
       "                    app.attachView('sframe','Plots', {\"selected_variable\": {\"name\": [\"sales\"], \"descriptives\": {\"rows\": 21613, \"columns\": 21}, \"view_component\": \"Plots\", \"view_file\": \"sframe\", \"view_params\": {\"y\": \"price\", \"x\": \"sqft_living\", \"columns\": [\"id\", \"date\", \"price\", \"bedrooms\", \"bathrooms\", \"sqft_living\", \"sqft_lot\", \"floors\", \"waterfront\", \"view\", \"condition\", \"grade\", \"sqft_above\", \"sqft_basement\", \"yr_built\", \"yr_renovated\", \"zipcode\", \"lat\", \"long\", \"sqft_living15\", \"sqft_lot15\"], \"view\": \"Scatter Plot\"}, \"view_components\": [\"Summary\", \"Table\", \"Bar Chart\", \"BoxWhisker Plot\", \"Line Chart\", \"Scatter Plot\", \"Heat Map\", \"Plots\"], \"type\": \"SFrame\", \"columns\": [{\"dtype\": \"str\", \"name\": \"id\"}, {\"dtype\": \"datetime\", \"name\": \"date\"}, {\"dtype\": \"float\", \"name\": \"price\"}, {\"dtype\": \"float\", \"name\": \"bedrooms\"}, {\"dtype\": \"float\", \"name\": \"bathrooms\"}, {\"dtype\": \"float\", \"name\": \"sqft_living\"}, {\"dtype\": \"int\", \"name\": \"sqft_lot\"}, {\"dtype\": \"str\", \"name\": \"floors\"}, {\"dtype\": \"int\", \"name\": \"waterfront\"}, {\"dtype\": \"int\", \"name\": \"view\"}, {\"dtype\": \"int\", \"name\": \"condition\"}, {\"dtype\": \"int\", \"name\": \"grade\"}, {\"dtype\": \"int\", \"name\": \"sqft_above\"}, {\"dtype\": \"int\", \"name\": \"sqft_basement\"}, {\"dtype\": \"int\", \"name\": \"yr_built\"}, {\"dtype\": \"int\", \"name\": \"yr_renovated\"}, {\"dtype\": \"str\", \"name\": \"zipcode\"}, {\"dtype\": \"float\", \"name\": \"lat\"}, {\"dtype\": \"float\", \"name\": \"long\"}, {\"dtype\": \"float\", \"name\": \"sqft_living15\"}, {\"dtype\": \"float\", \"name\": \"sqft_lot15\"}], \"column_identifiers\": [\"bathrooms\", \"sqft_living15\", \"sqft_above\", \"grade\", \"yr_built\", \"price\", \"bedrooms\", \"zipcode\", \"long\", \"id\", \"sqft_lot15\", \"sqft_living\", \"floors\", \"sqft_lot\", \"date\", \"waterfront\", \"sqft_basement\", \"yr_renovated\", \"lat\", \"condition\", \"view\"]}, \"complete\": 1, \"ipython\": true, \"progress\": 1.0, \"data\": [[1960.0, 395000.0], [1970.0, 315000.0], [1560.0, 273000.0], [4180.0, 1040892.0], [1680.0, 510000.0], [4300.0, 975000.0], [3100.0, 795000.0], [1390.0, 245000.0], [1800.0, 365000.0], [3230.0, 572115.0], [1820.0, 276000.0], [2070.0, 550000.0], [1800.0, 286000.0], [1490.0, 260250.0], [1410.0, 274800.0], [1390.0, 657100.0], [1740.0, 568000.0], [2040.0, 545000.0], [1930.0, 689888.0], [2170.0, 419000.0], [1830.0, 682000.0], [1570.0, 404600.0], [1940.0, 274000.0], [3220.0, 689000.0], [2310.0, 450000.0], [2180.0, 540000.0], [1890.0, 378000.0], [1400.0, 667000.0], [2590.0, 479000.0], [790.0, 169317.0], [780.0, 220000.0], [1790.0, 312000.0], [1760.0, 355000.0], [1090.0, 535000.0], [1400.0, 310000.0], [830.0, 325000.0], [1110.0, 279000.0], [1570.0, 284200.0], [3560.0, 1045000.0], [2240.0, 279900.0], [2600.0, 805000.0], [3170.0, 505000.0], [2980.0, 670000.0], [2040.0, 355000.0], [2720.0, 485000.0], [2210.0, 530000.0], [1100.0, 428750.0], [1520.0, 546800.0], [4170.0, 1450000.0], [2750.0, 357000.0], [4600.0, 805000.0], [1550.0, 320000.0], [3810.0, 1130000.0], [2640.0, 678000.0], [2180.0, 571500.0], [1750.0, 524950.0], [2180.0, 568500.0], [3730.0, 690000.0], [880.0, 105000.0], [1720.0, 430000.0], [2340.0, 645000.0], [2120.0, 369160.0], [1760.0, 605000.0], [1780.0, 175000.0], [1500.0, 649950.0], [2840.0, 663000.0], [1710.0, 549000.0], [3000.0, 585000.0], [1000.0, 204000.0], [1170.0, 205000.0], [2510.0, 319000.0], [2880.0, 419900.0], [1620.0, 327000.0], [3540.0, 1348000.0], [850.0, 360000.0], [2130.0, 482975.0], [3110.0, 600000.0], [2550.0, 561000.0], [1880.0, 284000.0], [1520.0, 362500.0], [2000.0, 630000.0], [3400.0, 951000.0], [2570.0, 397500.0], [1360.0, 550000.0], [960.0, 315000.0], [2700.0, 810000.0], [1900.0, 650000.0], [2665.0, 340000.0], [1590.0, 395825.0], [2700.0, 950000.0], [1620.0, 415000.0], [1650.0, 472500.0], [1860.0, 380000.0], [2180.0, 279000.0], [960.0, 244000.0], [4390.0, 1050000.0], [1660.0, 235000.0], [1990.0, 872500.0], [550.0, 353000.0], [2100.0, 630000.0], [1770.0, 243000.0], [1570.0, 330000.0], [1880.0, 355000.0], [940.0, 250000.0], [2500.0, 680000.0], [4590.0, 1135000.0], [3880.0, 1126000.0], [3100.0, 967000.0], [2440.0, 689000.0], [1810.0, 1247000.0], [1650.0, 350000.0], [1770.0, 279900.0], [1830.0, 419995.0], [1410.0, 325000.0], [3160.0, 685000.0], [4600.0, 805000.0], [1990.0, 335000.0], [1760.0, 365000.0], [3370.0, 813000.0], [2500.0, 538500.0], [1320.0, 352000.0], [4100.0, 950000.0], [1550.0, 380000.0], [2710.0, 258000.0], [3860.0, 1500000.0], [1250.0, 439000.0], [2760.0, 675000.0], [3040.0, 1735000.0], [1370.0, 406000.0], [2090.0, 485000.0], [3990.0, 609000.0], [1230.0, 387000.0], [1790.0, 584000.0], [1800.0, 335620.0], [1710.0, 575000.0], [1540.0, 221000.0], [2720.0, 690000.0], [2220.0, 542000.0], [2570.0, 605000.0], [3270.0, 750000.0], [1280.0, 215000.0], [2820.0, 527700.0], [3090.0, 1112750.0], [1310.0, 181000.0], [1960.0, 369990.0], [1640.0, 261490.0], [1660.0, 535000.0], [3181.0, 379900.0], [1910.0, 369950.0], [1930.0, 319000.0], [1590.0, 300000.0], [1320.0, 412000.0], [1650.0, 447000.0], [2240.0, 330000.0], [1550.0, 330000.0], [1690.0, 257500.0], [880.0, 253000.0], [3480.0, 860000.0], [2590.0, 465000.0], [6085.0, 1610000.0], [1950.0, 370000.0], [1990.0, 450000.0], [1530.0, 284000.0], [1820.0, 320000.0], [2020.0, 420000.0], [2540.0, 1190000.0], [1280.0, 291000.0], [1590.0, 210000.0], [2570.0, 715000.0], [1230.0, 343000.0], [1200.0, 234000.0], [1360.0, 237100.0], [1280.0, 495000.0], [1620.0, 387000.0], [1530.0, 536000.0], [1370.0, 232500.0], [1290.0, 456500.0], [2470.0, 305000.0], [1950.0, 269950.0], [1340.0, 279950.0], [1600.0, 370000.0], [2080.0, 480000.0], [2570.0, 1180000.0], [1420.0, 202000.0], [1300.0, 250000.0], [1420.0, 450000.0], [2680.0, 590000.0], [2260.0, 486000.0], [1480.0, 500000.0], [2680.0, 390000.0], [2260.0, 605000.0], [1190.0, 166950.0], [1630.0, 426000.0], [1560.0, 320000.0], [3460.0, 1750000.0], [1690.0, 256883.0], [2340.0, 242000.0], [1800.0, 580000.0], [1970.0, 780000.0], [2600.0, 245000.0], [2440.0, 769000.0], [2180.0, 612000.0], [1860.0, 291000.0], [2770.0, 760000.0], [2910.0, 810000.0], [2480.0, 840000.0], [1800.0, 449950.0], [2020.0, 744000.0], [1610.0, 225000.0], [1600.0, 405000.0], [5440.0, 850000.0], [2140.0, 625000.0], [3000.0, 680000.0], [2630.0, 435000.0], [1000.0, 200000.0], [1430.0, 620000.0], [3240.0, 800000.0], [2230.0, 652450.0], [3510.0, 1750000.0], [1910.0, 240000.0], [1390.0, 510000.0], [2220.0, 576750.0], [3110.0, 925000.0], [2220.0, 325000.0], [1350.0, 450000.0], [1240.0, 476900.0], [2100.0, 509250.0], [4830.0, 1925000.0], [1370.0, 280000.0], [2850.0, 1535000.0], [2540.0, 652500.0], [2310.0, 592100.0], [1310.0, 196500.0], [2610.0, 608000.0], [3440.0, 430000.0], [2130.0, 830000.0], [1590.0, 263000.0], [1860.0, 250000.0], [3700.0, 540000.0], [970.0, 262500.0], [1080.0, 460000.0], [3160.0, 1381000.0], [4060.0, 603500.0], [2400.0, 300000.0], [2250.0, 363000.0], [4140.0, 657500.0], [1060.0, 364500.0], [1470.0, 385000.0], [1060.0, 435000.0], [1800.0, 391000.0], [4850.0, 3567000.0], [3240.0, 1065000.0], [2090.0, 494000.0], [2410.0, 446800.0], [1430.0, 457500.0], [1720.0, 536500.0], [520.0, 330000.0], [2340.0, 459950.0], [1230.0, 255000.0], [2520.0, 496000.0], [2080.0, 198000.0], [1480.0, 255000.0], [2100.0, 525000.0], [3100.0, 449950.0], [1340.0, 495000.0], [1646.0, 305000.0], [1770.0, 270000.0], [1820.0, 499950.0], [1690.0, 380000.0], [3080.0, 775000.0], [1890.0, 450000.0], [490.0, 150000.0], [2820.0, 893880.0], [540.0, 425000.0], [1080.0, 331000.0], [2120.0, 800000.0], [2220.0, 275000.0], [1670.0, 678000.0], [3010.0, 998160.0], [2980.0, 620000.0], [2040.0, 775000.0], [2810.0, 454450.0], [2910.0, 825000.0], [1770.0, 270000.0], [2300.0, 650000.0], [1420.0, 340000.0], [1610.0, 203000.0], [1290.0, 373000.0], [2900.0, 675000.0], [3510.0, 931088.0], [2300.0, 623000.0], [1008.0, 480000.0], [1520.0, 190000.0], [3280.0, 580000.0], [2092.0, 390000.0], [2580.0, 499950.0], [1890.0, 282000.0], [2910.0, 1430800.0], [1320.0, 387500.0], [4290.0, 1705000.0], [1370.0, 190848.0], [2160.0, 650000.0], [3190.0, 587000.0], [2460.0, 405000.0], [1720.0, 508800.0], [1170.0, 265000.0], [1930.0, 425000.0], [1660.0, 269950.0], [2490.0, 590000.0], [2220.0, 470000.0], [2220.0, 800000.0], [1100.0, 303000.0], [770.0, 252500.0], [1300.0, 417000.0], [2090.0, 610000.0], [3080.0, 440000.0], [1490.0, 350000.0], [1760.0, 247500.0], [1300.0, 333760.0], [2020.0, 459000.0], [3490.0, 728000.0], [1100.0, 395000.0], [1830.0, 398000.0], [2390.0, 545000.0], [1830.0, 212000.0], [1860.0, 352500.0], [2170.0, 562000.0], [900.0, 157340.0], [3140.0, 532500.0], [2150.0, 419950.0], [2670.0, 825000.0], [2650.0, 329000.0], [2230.0, 340000.0], [1510.0, 400000.0], [2250.0, 260000.0], [1270.0, 260000.0], [1400.0, 710000.0], [3040.0, 700000.0], [2780.0, 475000.0], [1358.0, 311600.0], [2040.0, 325000.0], [1630.0, 357500.0], [2150.0, 1200000.0], [4260.0, 1065000.0], [2840.0, 372000.0], [2960.0, 1250000.0], [2350.0, 245000.0], [2420.0, 640000.0], [2180.0, 472000.0], [2500.0, 387000.0], [3130.0, 1389000.0], [2400.0, 389000.0], [1440.0, 490000.0], [810.0, 367000.0], [1480.0, 335000.0], [1710.0, 675000.0], [1910.0, 300000.0], [1070.0, 226750.0], [1430.0, 397500.0], [750.0, 292500.0], [2370.0, 1000000.0], [2440.0, 954500.0], [1830.0, 460000.0], [1767.0, 205000.0], [2520.0, 540000.0], [1450.0, 339000.0], [1480.0, 355000.0], [1890.0, 400000.0], [1440.0, 265000.0], [1600.0, 523500.0], [1480.0, 235000.0], [960.0, 205000.0], [3050.0, 1038000.0], [1610.0, 262500.0], [1880.0, 455000.0], [2830.0, 1086000.0], [1300.0, 324500.0], [1890.0, 465500.0], [2210.0, 660000.0], [1450.0, 650000.0], [1690.0, 440000.0], [1070.0, 462550.0], [680.0, 239000.0], [1810.0, 430000.0], [2500.0, 350000.0], [2250.0, 390000.0], [2370.0, 522500.0], [1810.0, 355000.0], [1810.0, 450000.0], [2040.0, 385000.0], [2820.0, 336000.0], [1100.0, 353000.0], [1250.0, 555000.0], [1890.0, 359950.0], [4060.0, 1795000.0], [2970.0, 1565000.0], [2100.0, 268500.0], [2490.0, 504750.0], [1760.0, 385000.0], [1770.0, 464000.0], [1720.0, 330000.0], [1390.0, 280000.0], [1540.0, 402000.0], [3490.0, 2000000.0], [1690.0, 409900.0], [3790.0, 1600000.0], [1290.0, 450000.0], [2540.0, 269950.0], [2230.0, 679950.0], [1180.0, 425000.0], [1590.0, 280000.0], [2280.0, 625000.0], [2990.0, 632925.0], [930.0, 275000.0], [2700.0, 565000.0], [1470.0, 250000.0], [1250.0, 353000.0], [730.0, 321500.0], [1650.0, 272000.0], [2060.0, 459500.0], [2510.0, 571000.0], [2400.0, 1388000.0], [5540.0, 2630000.0], [2040.0, 417000.0], [1850.0, 678100.0], [5000.0, 1688000.0], [1040.0, 390000.0], [2850.0, 373000.0], [4575.0, 2920000.0], [2580.0, 650000.0], [2360.0, 525000.0], [2520.0, 1050000.0], [2880.0, 360000.0], [2330.0, 850000.0], [2030.0, 572500.0], [780.0, 315000.0], [1170.0, 252000.0], [3130.0, 843000.0], [2570.0, 680000.0], [1860.0, 275000.0], [2200.0, 515000.0], [2630.0, 325000.0], [2120.0, 246000.0], [1880.0, 449950.0], [2080.0, 813000.0], [1980.0, 810000.0], [2930.0, 600000.0], [4120.0, 1360000.0], [2260.0, 560000.0], [1120.0, 309950.0], [2790.0, 478000.0], [2450.0, 399950.0], [2650.0, 425000.0], [1630.0, 313000.0], [2880.0, 1052000.0], [3340.0, 690000.0], [3620.0, 856000.0], [2570.0, 370000.0], [1020.0, 410000.0], [1190.0, 268300.0], [2590.0, 690000.0], [3080.0, 432500.0], [1220.0, 500000.0], [2060.0, 533000.0], [1820.0, 320000.0], [430.0, 80000.0], [790.0, 435000.0], [1960.0, 277000.0], [1890.0, 322968.0], [3740.0, 860000.0], [3840.0, 2152500.0], [2100.0, 503000.0], [3350.0, 805000.0], [3480.0, 1190000.0], [1240.0, 352900.0], [1960.0, 340000.0], [1660.0, 420000.0], [2660.0, 695000.0], [630.0, 315000.0], [1610.0, 259000.0], [1680.0, 265000.0], [1950.0, 328500.0], [1910.0, 585000.0], [2670.0, 465000.0], [1670.0, 289000.0], [1170.0, 119500.0], [1590.0, 783200.0], [970.0, 425000.0], [4230.0, 879000.0], [2090.0, 300000.0], [2340.0, 314000.0], [1750.0, 199500.0], [3580.0, 760000.0], [1650.0, 443000.0], [3960.0, 805000.0], [1970.0, 415000.0], [1980.0, 405000.0], [900.0, 329950.0], [4480.0, 490000.0], [1760.0, 810000.0], [880.0, 415000.0], [2430.0, 780000.0], [1760.0, 410000.0], [1000.0, 525000.0], [1480.0, 256000.0], [2050.0, 1100000.0], [1280.0, 272925.0], [1930.0, 855000.0], [2740.0, 705000.0], [2800.0, 1307000.0], [2650.0, 580000.0], [1400.0, 401000.0], [2680.0, 502000.0], [980.0, 128000.0], [1760.0, 470000.0], [2020.0, 355000.0], [2790.0, 725500.0], [850.0, 354000.0], [2390.0, 420000.0], [1600.0, 390000.0], [2000.0, 593700.0], [1680.0, 525000.0], [1770.0, 520000.0], [1260.0, 380000.0], [770.0, 275000.0], [1610.0, 263500.0], [1240.0, 357823.0], [4130.0, 1900000.0], [660.0, 100000.0], [3240.0, 612995.0], [1460.0, 601500.0], [3400.0, 1198000.0], [990.0, 179000.0], [1914.0, 305000.0], [870.0, 435000.0], [1320.0, 268950.0], [800.0, 265000.0], [1070.0, 240000.0], [3430.0, 1010000.0], [960.0, 435000.0], [680.0, 365000.0], [1440.0, 246000.0], [1020.0, 225000.0], [1210.0, 351358.0], [2050.0, 770000.0], [3430.0, 850000.0], [750.0, 435000.0], [1430.0, 478000.0], [1010.0, 200000.0], [1310.0, 240000.0], [1450.0, 822500.0], [1220.0, 935000.0], [1240.0, 505000.0], [1990.0, 328000.0], [2960.0, 740000.0], [2300.0, 615000.0], [940.0, 473000.0], [4110.0, 1031000.0], [1010.0, 215000.0], [900.0, 302000.0], [2430.0, 791000.0], [2580.0, 340000.0], [4070.0, 1454000.0], [1290.0, 256000.0], [1220.0, 672000.0], [2420.0, 298500.0], [1730.0, 275000.0], [2520.0, 250000.0], [1660.0, 385000.0], [1200.0, 299000.0], [1950.0, 225000.0], [2680.0, 575000.0], [1750.0, 312000.0], [1690.0, 314950.0], [2200.0, 359000.0], [1170.0, 457000.0], [1520.0, 235000.0], [1840.0, 585000.0], [1170.0, 216500.0], [2520.0, 849000.0], [1830.0, 410000.0], [1180.0, 193000.0], [3550.0, 775000.0], [2060.0, 439000.0], [1530.0, 635000.0], [2030.0, 302000.0], [1720.0, 206000.0], [1250.0, 210000.0], [2270.0, 352750.0], [1480.0, 425000.0], [2570.0, 492500.0], [1100.0, 241450.0], [3780.0, 970000.0], [1630.0, 740000.0], [1280.0, 425000.0], [8000.0, 5350000.0], [1670.0, 325000.0], [600.0, 229000.0], [2720.0, 436000.0], [1900.0, 343500.0], [1680.0, 530000.0], [1050.0, 295000.0], [730.0, 174950.0], [1230.0, 356000.0], [2200.0, 472000.0], [2960.0, 835000.0], [1540.0, 380000.0], [1970.0, 339000.0], [1760.0, 449900.0], [3380.0, 435000.0], [1290.0, 529100.0], [2300.0, 325000.0], [1670.0, 585000.0], [2640.0, 750000.0], [940.0, 115000.0], [690.0, 260000.0], [2370.0, 688100.0], [2050.0, 260000.0], [1870.0, 229500.0], [870.0, 395000.0], [2630.0, 445000.0], [1700.0, 575000.0], [2850.0, 637000.0], [2961.0, 695000.0], [1900.0, 250000.0], [1200.0, 222000.0], [1690.0, 356200.0], [1584.0, 263000.0], [1570.0, 765000.0], [1790.0, 375000.0], [960.0, 218000.0], [2010.0, 475000.0], [3890.0, 850000.0], [1830.0, 270000.0], [2440.0, 530000.0], [1730.0, 425000.0], [2050.0, 210000.0], [1360.0, 245000.0], [1250.0, 345000.0], [3300.0, 484000.0], [1520.0, 135000.0], [2070.0, 310000.0], [2640.0, 490000.0], [2720.0, 739000.0], [1150.0, 129000.0], [2400.0, 672500.0], [1790.0, 437500.0], [2550.0, 855000.0], [2840.0, 425000.0], [2310.0, 713000.0], [1790.0, 455000.0], [2020.0, 521000.0], [3190.0, 807500.0], [2160.0, 733000.0], [1920.0, 443500.0], [3760.0, 825000.0], [1280.0, 300000.0], [1530.0, 199950.0], [1700.0, 652000.0], [1300.0, 562000.0], [1070.0, 224400.0], [1740.0, 315000.0], [2290.0, 435000.0], [2850.0, 608500.0], [1550.0, 432000.0], [1250.0, 259875.0], [1420.0, 569950.0], [3170.0, 910000.0], [1650.0, 665000.0], [1510.0, 320000.0], [3980.0, 760000.0], [3040.0, 760000.0], [3060.0, 1762000.0], [1660.0, 570000.0], [4060.0, 1600000.0], [3600.0, 760000.0], [2650.0, 770000.0], [1260.0, 230000.0], [1210.0, 215000.0], [1160.0, 394000.0], [3100.0, 700000.0], [2960.0, 472500.0], [2230.0, 385000.0], [2530.0, 435000.0], [1750.0, 499000.0], [2110.0, 1031000.0], [1450.0, 306000.0], [1300.0, 230000.0], [2550.0, 446000.0], [750.0, 258000.0], [2456.0, 329950.0], [4570.0, 1484900.0], [860.0, 345000.0], [1220.0, 370000.0], [2544.0, 415000.0], [2620.0, 720000.0], [2630.0, 567000.0], [1870.0, 579000.0], [2780.0, 1140000.0], [5860.0, 2400000.0], [1460.0, 186000.0], [2800.0, 739000.0], [1360.0, 525000.0], [1360.0, 279900.0], [1540.0, 690000.0], [2670.0, 425000.0], [2950.0, 530000.0], [1520.0, 400000.0], [3960.0, 1195000.0], [3660.0, 530000.0], [3080.0, 637000.0], [2160.0, 670000.0], [2210.0, 639000.0], [670.0, 334000.0], [2340.0, 550000.0], [720.0, 350000.0], [3840.0, 1135000.0], [1070.0, 164000.0], [3700.0, 1100000.0], [2520.0, 420000.0], [2270.0, 435000.0], [1290.0, 300000.0], [860.0, 82000.0], [1060.0, 206000.0], [1700.0, 616300.0], [1608.0, 274950.0], [1850.0, 268000.0], [3200.0, 422000.0], [1470.0, 328000.0], [1580.0, 535000.0], [1410.0, 445000.0], [1630.0, 231500.0], [1750.0, 575000.0], [2570.0, 752000.0], [2460.0, 570000.0], [4370.0, 897500.0], [2260.0, 380000.0], [2828.0, 367000.0], [1810.0, 355000.0], [2390.0, 1185000.0], [1990.0, 575000.0], [1400.0, 658600.0], [3950.0, 1780000.0], [2040.0, 534000.0], [3840.0, 612000.0], [670.0, 250000.0], [1540.0, 543000.0], [810.0, 229000.0], [670.0, 107000.0], [2610.0, 750000.0], [760.0, 415000.0], [2620.0, 519000.0], [920.0, 210000.0], [2320.0, 475000.0], [1780.0, 672000.0], [1010.0, 212000.0], [1540.0, 269000.0], [3160.0, 942000.0], [840.0, 325000.0], [2620.0, 850000.0], [4130.0, 1070000.0], [2320.0, 562500.0], [1700.0, 277500.0], [3700.0, 898000.0], [1980.0, 235000.0], [2770.0, 700000.0], [2660.0, 1130000.0], [2080.0, 300000.0], [910.0, 100000.0], [1040.0, 420000.0], [2640.0, 429900.0], [1540.0, 275000.0], [1300.0, 502000.0], [2510.0, 605000.0], [1980.0, 233000.0], [890.0, 475000.0], [3510.0, 695000.0], [1670.0, 282000.0], [2860.0, 565000.0], [2420.0, 1490000.0], [1300.0, 397500.0], [1210.0, 710000.0], [1880.0, 380000.0], [3170.0, 748000.0], [1350.0, 281000.0], [2030.0, 420000.0], [1580.0, 375000.0], [2390.0, 415000.0], [1940.0, 232500.0], [710.0, 385195.0], [930.0, 351000.0], [1720.0, 210000.0], [3550.0, 1355000.0], [1580.0, 275000.0], [3650.0, 1518634.0], [1570.0, 998500.0], [1900.0, 463000.0], [2100.0, 420000.0], [2240.0, 635000.0], [1640.0, 716100.0], [2840.0, 1145000.0], [1470.0, 432500.0], [1630.0, 422120.0], [1420.0, 435000.0], [2160.0, 665000.0], [2750.0, 615000.0], [1660.0, 250000.0], [1850.0, 700000.0], [2600.0, 581000.0], [2100.0, 380000.0], [1580.0, 279900.0], [1830.0, 323000.0], [2270.0, 304999.0], [4600.0, 800000.0], [1620.0, 420000.0], [840.0, 295000.0], [2260.0, 525000.0], [3140.0, 946000.0], [2760.0, 1103990.0], [820.0, 173000.0], [1250.0, 235000.0], [1140.0, 249900.0], [1110.0, 532000.0], [2200.0, 285167.0], [1340.0, 354000.0], [3790.0, 1865000.0], [1250.0, 452000.0], [1640.0, 226500.0], [1400.0, 367500.0], [5530.0, 1350000.0], [1910.0, 595000.0], [2000.0, 453500.0], [1770.0, 229500.0], [1430.0, 266200.0], [1330.0, 479000.0], [1780.0, 615000.0], [1660.0, 449000.0], [1820.0, 268500.0], [1700.0, 389950.0], [1970.0, 320000.0], [2320.0, 568000.0], [1660.0, 279000.0], [2170.0, 850000.0], [1310.0, 304000.0], [2700.0, 898000.0], [2280.0, 665000.0], [1530.0, 664000.0], [1410.0, 405000.0], [940.0, 354000.0], [1360.0, 280000.0], [1900.0, 535800.0], [3690.0, 440000.0], [1190.0, 299500.0], [1000.0, 212000.0], [1370.0, 299950.0], [2430.0, 495000.0], [1068.0, 243000.0], [3140.0, 400000.0], [840.0, 450600.0], [2660.0, 423000.0], [2400.0, 325000.0], [3010.0, 500000.0], [1650.0, 539900.0], [1990.0, 256750.0], [3090.0, 891500.0], [1410.0, 380500.0], [2420.0, 429000.0], [1820.0, 299000.0], [2110.0, 355000.0], [2250.0, 765000.0], [4250.0, 1208000.0], [1620.0, 305000.0], [2920.0, 795000.0], [2190.0, 450000.0], [1600.0, 214000.0], [1570.0, 371000.0], [1700.0, 539000.0], [1780.0, 266000.0], [950.0, 304000.0], [2450.0, 793000.0], [1260.0, 414900.0], [2030.0, 544000.0], [3420.0, 692500.0], [1900.0, 235000.0], [3480.0, 878000.0], [1370.0, 500000.0], [2120.0, 379500.0], [2990.0, 820000.0], [1330.0, 374000.0], [3020.0, 515000.0], [3130.0, 685530.0], [1710.0, 561000.0], [2010.0, 774000.0], [1470.0, 615000.0], [740.0, 255000.0], [1530.0, 220000.0], [1300.0, 263000.0], [2170.0, 1325000.0], [4870.0, 1835000.0], [1615.0, 665000.0], [730.0, 316000.0], [3810.0, 900000.0], [1720.0, 580000.0], [1890.0, 495000.0], [1160.0, 415000.0], [1710.0, 322400.0], [2050.0, 299000.0], [2260.0, 440000.0], [2557.0, 594950.0], [1730.0, 521000.0], [1850.0, 295000.0], [1420.0, 408000.0], [1880.0, 681000.0], [2640.0, 850000.0], [1270.0, 347000.0], [2520.0, 1100000.0], [2450.0, 299000.0], [3230.0, 499950.0], [1590.0, 285000.0], [2120.0, 290000.0], [2680.0, 575000.0], [1370.0, 605004.0], [1200.0, 250000.0], [1220.0, 940000.0], [1150.0, 489000.0], [2030.0, 750000.0], [2330.0, 689000.0], [3040.0, 605000.0], [1930.0, 581000.0], [2600.0, 355500.0], [1400.0, 322000.0], [2628.0, 499160.0], [1500.0, 270000.0], [1300.0, 245100.0], [2510.0, 680000.0], [1270.0, 379600.0], [3570.0, 597326.0], [4220.0, 3300000.0], [1400.0, 340000.0], [1720.0, 575000.0], [1860.0, 326995.0], [3240.0, 812000.0], [1610.0, 630000.0], [1480.0, 280000.0], [1320.0, 251750.0], [2150.0, 419000.0], [2540.0, 655000.0], [2710.0, 275000.0], [2910.0, 595000.0], [2310.0, 739000.0], [2350.0, 910000.0], [3190.0, 790000.0], [2790.0, 1298000.0], [2170.0, 389950.0], [2470.0, 430000.0], [3760.0, 998000.0], [1070.0, 346000.0], [1780.0, 315000.0], [3980.0, 1765000.0], [1840.0, 279000.0], [1100.0, 189650.0], [1400.0, 305000.0], [2770.0, 825000.0], [3420.0, 679000.0], [2810.0, 674000.0], [1830.0, 488250.0], [1070.0, 335000.0], [2550.0, 582800.0], [1260.0, 445000.0], [2130.0, 580000.0], [3790.0, 2200000.0], [2020.0, 463000.0], [1510.0, 397500.0], [1800.0, 325000.0], [2010.0, 360000.0], [1180.0, 355000.0], [1520.0, 525000.0], [1860.0, 315000.0], [900.0, 174000.0], [1190.0, 215000.0], [1920.0, 443000.0], [2730.0, 570000.0], [1000.0, 400000.0], [1330.0, 386900.0], [3190.0, 687500.0], [3310.0, 999950.0], [1260.0, 220000.0], [2789.0, 272000.0], [1670.0, 268500.0], [3240.0, 902000.0], [1430.0, 403250.0], [3160.0, 848750.0], [2260.0, 451000.0], [1990.0, 625000.0], [1190.0, 555000.0], [1800.0, 257000.0], [1040.0, 230000.0], [1010.0, 229900.0], [4920.0, 1408762.0], [1850.0, 476100.0]], \"columns\": [{\"dtype\": \"str\", \"name\": \"id\"}, {\"dtype\": \"datetime\", \"name\": \"date\"}, {\"dtype\": \"float\", \"name\": \"price\"}, {\"dtype\": \"float\", \"name\": \"bedrooms\"}, {\"dtype\": \"float\", \"name\": \"bathrooms\"}, {\"dtype\": \"float\", \"name\": \"sqft_living\"}, {\"dtype\": \"int\", \"name\": \"sqft_lot\"}, {\"dtype\": \"str\", \"name\": \"floors\"}, {\"dtype\": \"int\", \"name\": \"waterfront\"}, {\"dtype\": \"int\", \"name\": \"view\"}, {\"dtype\": \"int\", \"name\": \"condition\"}, {\"dtype\": \"int\", \"name\": \"grade\"}, {\"dtype\": \"int\", \"name\": \"sqft_above\"}, {\"dtype\": \"int\", \"name\": \"sqft_basement\"}, {\"dtype\": \"int\", \"name\": \"yr_built\"}, {\"dtype\": \"int\", \"name\": \"yr_renovated\"}, {\"dtype\": \"str\", \"name\": \"zipcode\"}, {\"dtype\": \"float\", \"name\": \"lat\"}, {\"dtype\": \"float\", \"name\": \"long\"}, {\"dtype\": \"float\", \"name\": \"sqft_living15\"}, {\"dtype\": \"float\", \"name\": \"sqft_lot15\"}]}, e);\n",
       "                });\n",
       "            })();\n",
       "        "
      ]
     },
     "metadata": {},
     "output_type": "display_data"
    }
   ],
   "source": [
    "graphlab.canvas.set_target('ipynb')\n",
    "sales.show(view=\"Scatter Plot\", x=\"sqft_living\", y=\"price\")\n",
    "\n",
    "train_data,test_data = sales.random_split(.8,seed=0)"
   ]
  },
  {
   "cell_type": "markdown",
   "metadata": {},
   "source": [
    "# Useful SFrame summary functions"
   ]
  },
  {
   "cell_type": "markdown",
   "metadata": {},
   "source": [
    "In order to make use of the closed form solution as well as take advantage of graphlab's built in functions we will review some important ones. In particular:\n",
    "* Computing the sum of an SArray\n",
    "* Computing the arithmetic average (mean) of an SArray\n",
    "* multiplying SArrays by constants\n",
    "* multiplying SArrays by other SArrays"
   ]
  },
  {
   "cell_type": "code",
   "execution_count": 4,
   "metadata": {},
   "outputs": [
    {
     "name": "stdout",
     "output_type": "stream",
     "text": [
      "average price via method 1: 540088.141905\n",
      "average price via method 2: 540088.141905\n"
     ]
    }
   ],
   "source": [
    "# Let's compute the mean of the House Prices in King County in 2 different ways.\n",
    "prices = sales['price'] # extract the price column of the sales SFrame -- this is now an SArray\n",
    "\n",
    "# recall that the arithmetic average (the mean) is the sum of the prices divided by the total number of houses:\n",
    "sum_prices = prices.sum()\n",
    "num_houses = prices.size() # when prices is an SArray .size() returns its length\n",
    "avg_price_1 = sum_prices/num_houses\n",
    "avg_price_2 = prices.mean() # if you just want the average, the .mean() function\n",
    "print \"average price via method 1: \" + str(avg_price_1)\n",
    "print \"average price via method 2: \" + str(avg_price_2)"
   ]
  },
  {
   "cell_type": "markdown",
   "metadata": {},
   "source": [
    "As we see we get the same answer both ways"
   ]
  },
  {
   "cell_type": "code",
   "execution_count": 5,
   "metadata": {},
   "outputs": [
    {
     "name": "stdout",
     "output_type": "stream",
     "text": [
      "the sum of price squared is: 9.21732513355e+15\n"
     ]
    }
   ],
   "source": [
    "# if we want to multiply every price by 0.5 it's a simple as:\n",
    "half_prices = 0.5*prices\n",
    "# Let's compute the sum of squares of price. We can multiply two SArrays of the same length elementwise also with *\n",
    "prices_squared = prices*prices\n",
    "sum_prices_squared = prices_squared.sum() # price_squared is an SArray of the squares and we want to add them up.\n",
    "print \"the sum of price squared is: \" + str(sum_prices_squared)"
   ]
  },
  {
   "cell_type": "markdown",
   "metadata": {},
   "source": [
    "Aside: The python notation x.xxe+yy means x.xx \\* 10^(yy). e.g 100 = 10^2 = 1*10^2 = 1e2 "
   ]
  },
  {
   "cell_type": "markdown",
   "metadata": {},
   "source": [
    "# Build a generic simple linear regression function "
   ]
  },
  {
   "cell_type": "markdown",
   "metadata": {},
   "source": [
    "Armed with these SArray functions we can use the closed form solution found from lecture to compute the slope and intercept for a simple linear regression on observations stored as SArrays: input_feature, output.\n",
    "\n",
    "Complete the following function (or write your own) to compute the simple linear regression slope and intercept:"
   ]
  },
  {
   "cell_type": "code",
   "execution_count": 6,
   "metadata": {
    "collapsed": true
   },
   "outputs": [],
   "source": [
    "def simple_linear_regression(input_feature, output):\n",
    "    # compute the sum of input_feature and output\n",
    "    sum_yi = sum(output)\n",
    "    sum_xi = sum(input_feature)    \n",
    "    # compute the product of the output and the input_feature and its sum\n",
    "    sum_xiyi = sum(output*input_feature)\n",
    "    # compute the squared value of the input_feature and its sum\n",
    "    sum_xi2 = sum(input_feature**2)\n",
    "    N = float(len(input_feature))\n",
    "    numerator = sum_xiyi - ((sum_yi*sum_xi)/N)\n",
    "    # use the formula for the slope (w1)\n",
    "    slope = (numerator) / float(sum_xi2-((sum_xi*sum_xi)/N))\n",
    "    # use the formula for the intercept (w0)\n",
    "    intercept = sum_yi/N - slope*(sum_xi/N)\n",
    " \n",
    "    return (intercept, slope)"
   ]
  },
  {
   "cell_type": "markdown",
   "metadata": {},
   "source": [
    "We can test that our function works by passing it something where we know the answer. In particular we can generate a feature and then put the output exactly on a line: output = 1 + 1\\*input_feature then we know both our slope and intercept should be 1"
   ]
  },
  {
   "cell_type": "code",
   "execution_count": 7,
   "metadata": {
    "scrolled": true
   },
   "outputs": [
    {
     "name": "stdout",
     "output_type": "stream",
     "text": [
      "Intercept: 1.0\n",
      "Slope: 1.0\n"
     ]
    }
   ],
   "source": [
    "test_feature = graphlab.SArray(range(5))\n",
    "test_output = graphlab.SArray(1 + 1*test_feature)\n",
    "(test_intercept, test_slope) =  simple_linear_regression(test_feature, test_output)\n",
    "print \"Intercept: \" + str(test_intercept)\n",
    "print \"Slope: \" + str(test_slope)"
   ]
  },
  {
   "cell_type": "markdown",
   "metadata": {},
   "source": [
    "Now that we know it works let's build a regression model for predicting price based on sqft_living. Rembember that we train on train_data!"
   ]
  },
  {
   "cell_type": "code",
   "execution_count": 8,
   "metadata": {},
   "outputs": [
    {
     "name": "stdout",
     "output_type": "stream",
     "text": [
      "Intercept: -47116.0765749\n",
      "Slope: 281.958838568\n"
     ]
    }
   ],
   "source": [
    "sqft_intercept, sqft_slope = simple_linear_regression(train_data['sqft_living'], train_data['price'])\n",
    "\n",
    "print \"Intercept: \" + str(sqft_intercept)\n",
    "print \"Slope: \" + str(sqft_slope)"
   ]
  },
  {
   "cell_type": "markdown",
   "metadata": {},
   "source": [
    "# Predicting Values"
   ]
  },
  {
   "cell_type": "markdown",
   "metadata": {},
   "source": [
    "Now that we have the model parameters: intercept & slope we can make predictions. Using SArrays it's easy to multiply an SArray by a constant and add a constant value. Complete the following function to return the predicted output given the input_feature, slope and intercept:"
   ]
  },
  {
   "cell_type": "code",
   "execution_count": 9,
   "metadata": {
    "collapsed": true
   },
   "outputs": [],
   "source": [
    "def get_regression_predictions(input_feature, intercept, slope):\n",
    "    # calculate the predicted values:\n",
    "    predicted_values = intercept + slope*input_feature\n",
    "    \n",
    "    return predicted_values"
   ]
  },
  {
   "cell_type": "markdown",
   "metadata": {},
   "source": [
    "Now that we can calculate a prediction given the slope and intercept let's make a prediction. Use (or alter) the following to find out the estimated price for a house with 2650 squarefeet according to the squarefeet model we estiamted above.\n",
    "\n",
    "**Quiz Question: Using your Slope and Intercept from (4), What is the predicted price for a house with 2650 sqft?**"
   ]
  },
  {
   "cell_type": "code",
   "execution_count": 10,
   "metadata": {},
   "outputs": [
    {
     "name": "stdout",
     "output_type": "stream",
     "text": [
      "The estimated price for a house with 2650 squarefeet is $700074.85\n"
     ]
    }
   ],
   "source": [
    "my_house_sqft = 2650\n",
    "estimated_price = get_regression_predictions(my_house_sqft, sqft_intercept, sqft_slope)\n",
    "print \"The estimated price for a house with %d squarefeet is $%.2f\" % (my_house_sqft, estimated_price)"
   ]
  },
  {
   "cell_type": "markdown",
   "metadata": {},
   "source": [
    "# Residual Sum of Squares"
   ]
  },
  {
   "cell_type": "markdown",
   "metadata": {},
   "source": [
    "Now that we have a model and can make predictions let's evaluate our model using Residual Sum of Squares (RSS). Recall that RSS is the sum of the squares of the residuals and the residuals is just a fancy word for the difference between the predicted output and the true output. \n",
    "\n",
    "Complete the following (or write your own) function to compute the RSS of a simple linear regression model given the input_feature, output, intercept and slope:"
   ]
  },
  {
   "cell_type": "code",
   "execution_count": 11,
   "metadata": {
    "collapsed": true
   },
   "outputs": [],
   "source": [
    "def get_residual_sum_of_squares(input_feature, output, intercept, slope):\n",
    "    # First get the predictions\n",
    "    predicted_values = get_regression_predictions(input_feature, intercept, slope)\n",
    "\n",
    "    # then compute the residuals (since we are squaring it doesn't matter which order you subtract)\n",
    "    residuals = predicted_values - output\n",
    "\n",
    "    # square the residuals and add them up\n",
    "    RSS = sum(residuals**2)  \n",
    "    \n",
    "    return(RSS)"
   ]
  },
  {
   "cell_type": "markdown",
   "metadata": {},
   "source": [
    "Let's test our get_residual_sum_of_squares function by applying it to the test model where the data lie exactly on a line. Since they lie exactly on a line the residual sum of squares should be zero!"
   ]
  },
  {
   "cell_type": "code",
   "execution_count": 12,
   "metadata": {},
   "outputs": [
    {
     "name": "stdout",
     "output_type": "stream",
     "text": [
      "0.0\n"
     ]
    }
   ],
   "source": [
    "print get_residual_sum_of_squares(test_feature, test_output, test_intercept, test_slope) # should be 0.0"
   ]
  },
  {
   "cell_type": "markdown",
   "metadata": {},
   "source": [
    "Now use your function to calculate the RSS on training data from the squarefeet model calculated above.\n",
    "\n",
    "**Quiz Question: According to this function and the slope and intercept from the squarefeet model What is the RSS for the simple linear regression using squarefeet to predict prices on TRAINING data?**"
   ]
  },
  {
   "cell_type": "code",
   "execution_count": 13,
   "metadata": {},
   "outputs": [
    {
     "name": "stdout",
     "output_type": "stream",
     "text": [
      "The RSS of predicting Prices based on Square Feet is : 1.20191835632e+15\n"
     ]
    }
   ],
   "source": [
    "rss_prices_on_sqft = get_residual_sum_of_squares(train_data['sqft_living'], train_data['price'], sqft_intercept, sqft_slope)\n",
    "print 'The RSS of predicting Prices based on Square Feet is : ' + str(rss_prices_on_sqft)"
   ]
  },
  {
   "cell_type": "markdown",
   "metadata": {},
   "source": [
    "# Predict the squarefeet given price"
   ]
  },
  {
   "cell_type": "markdown",
   "metadata": {},
   "source": [
    "What if we want to predict the squarefoot given the price? Since we have an equation y = a + b\\*x we can solve the function for x. So that if we have the intercept (a) and the slope (b) and the price (y) we can solve for the estimated squarefeet (x).\n",
    "\n",
    "Complete the following function to compute the inverse regression estimate, i.e. predict the input_feature given the output."
   ]
  },
  {
   "cell_type": "code",
   "execution_count": 14,
   "metadata": {
    "collapsed": true
   },
   "outputs": [],
   "source": [
    "def inverse_regression_predictions(output, intercept, slope):\n",
    "    # solve output = intercept + slope*input_feature for input_feature. Use this equation to compute the inverse predictions:\n",
    " \n",
    "    estimated_feature = (output - intercept)/float(slope)\n",
    "    return estimated_feature"
   ]
  },
  {
   "cell_type": "markdown",
   "metadata": {},
   "source": [
    "Now that we have a function to compute the squarefeet given the price from our simple regression model let's see how big we might expect a house that costs $800,000 to be.\n",
    "\n",
    "**Quiz Question: According to this function and the regression slope and intercept from (3) what is the estimated square-feet for a house costing $800,000?**"
   ]
  },
  {
   "cell_type": "code",
   "execution_count": 15,
   "metadata": {},
   "outputs": [
    {
     "name": "stdout",
     "output_type": "stream",
     "text": [
      "The estimated squarefeet for a house worth $800000.00 is 3004\n"
     ]
    }
   ],
   "source": [
    "my_house_price = 800000\n",
    "estimated_squarefeet = inverse_regression_predictions(my_house_price, sqft_intercept, sqft_slope)\n",
    "print \"The estimated squarefeet for a house worth $%.2f is %d\" % (my_house_price, estimated_squarefeet)"
   ]
  },
  {
   "cell_type": "markdown",
   "metadata": {},
   "source": [
    "# New Model: estimate prices from bedrooms"
   ]
  },
  {
   "cell_type": "markdown",
   "metadata": {},
   "source": [
    "We have made one model for predicting house prices using squarefeet, but there are many other features in the sales SFrame. \n",
    "Use your simple linear regression function to estimate the regression parameters from predicting Prices based on number of bedrooms. Use the training data!"
   ]
  },
  {
   "cell_type": "code",
   "execution_count": 16,
   "metadata": {},
   "outputs": [
    {
     "name": "stdout",
     "output_type": "stream",
     "text": [
      "Intercept-bedroom: 109473.180469\n",
      "Slope-bedroom: 127588.952175\n"
     ]
    }
   ],
   "source": [
    "# Estimate the slope and intercept for predicting 'price' based on 'bedrooms'\n",
    "\n",
    "bedroom_intercept, bedroom_slope = simple_linear_regression(train_data['bedrooms'], train_data['price'])\n",
    "\n",
    "print \"Intercept-bedroom: \" + str(bedroom_intercept)\n",
    "print \"Slope-bedroom: \" + str(bedroom_slope)"
   ]
  },
  {
   "cell_type": "markdown",
   "metadata": {},
   "source": [
    "# Test your Linear Regression Algorithm"
   ]
  },
  {
   "cell_type": "markdown",
   "metadata": {},
   "source": [
    "Now we have two models for predicting the price of a house. How do we know which one is better? Calculate the RSS on the TEST data (remember this data wasn't involved in learning the model). Compute the RSS from predicting prices using bedrooms and from predicting prices using squarefeet.\n",
    "\n",
    "**Quiz Question: Which model (square feet or bedrooms) has lowest RSS on TEST data? Think about why this might be the case.**"
   ]
  },
  {
   "cell_type": "code",
   "execution_count": 17,
   "metadata": {},
   "outputs": [
    {
     "name": "stdout",
     "output_type": "stream",
     "text": [
      "The RSS of predicting Prices based on bedrooms is : 4.93364582868e+14\n"
     ]
    }
   ],
   "source": [
    "# Compute RSS when using bedrooms on TEST data:\n",
    "rss_prices_on_bedroom_test = get_residual_sum_of_squares(test_data['bedrooms'],test_data['price'], bedroom_intercept, bedroom_slope)\n",
    "print 'The RSS of predicting Prices based on bedrooms is : ' + str(rss_prices_on_bedroom_test)"
   ]
  },
  {
   "cell_type": "code",
   "execution_count": 18,
   "metadata": {},
   "outputs": [
    {
     "name": "stdout",
     "output_type": "stream",
     "text": [
      "The RSS of predicting Prices based on Square Feet is : 2.75402936247e+14\n"
     ]
    }
   ],
   "source": [
    "# Compute RSS when using squarefeet on TEST data:\n",
    "rss_prices_on_sqrt_test = get_residual_sum_of_squares(test_data['sqft_living'], test_data['price'], sqft_intercept, sqft_slope)\n",
    "print 'The RSS of predicting Prices based on Square Feet is : ' + str(rss_prices_on_sqrt_test)"
   ]
  },
  {
   "cell_type": "code",
   "execution_count": 19,
   "metadata": {},
   "outputs": [
    {
     "name": "stdout",
     "output_type": "stream",
     "text": [
      "The estimated price for a house with 2650 squarefeet is $700074.85\n",
      "The estimated price for a house with 2650 bedroom is $338220196.44\n"
     ]
    }
   ],
   "source": [
    "my_house_sqft = 2650\n",
    "estimated_price_sqft = get_regression_predictions(my_house_sqft, sqft_intercept, sqft_slope)\n",
    "print \"The estimated price for a house with %d squarefeet is $%.2f\" % (my_house_sqft, estimated_price_sqft)\n",
    "\n",
    "estimated_price_bedroom = get_regression_predictions(my_house_sqft, bedroom_intercept, bedroom_slope)\n",
    "print \"The estimated price for a house with %d bedroom is $%.2f\" % (my_house_sqft, estimated_price_bedroom)"
   ]
  },
  {
   "cell_type": "code",
   "execution_count": 20,
   "metadata": {},
   "outputs": [
    {
     "name": "stdout",
     "output_type": "stream",
     "text": [
      " \t\t *** QUIZ  ***\n",
      "\n",
      "Q1: What is the predicted price for a house with 2650 sqft?\n",
      "\t-> $700074.85\n",
      "Q2: What is the RSS for the simple linear regression using squarefeet to predict prices on TRAINING data?\n",
      "\t-> $1.20191835632e+15\n",
      "Q3: What is the estimated square-feet for a house costing $800,000?\n",
      "\t-> $3004.39624762\n",
      "Q4: Which model (square feet or bedrooms) has lowest RSS on TEST data?\n",
      "\t-> RSS (square feet): 2.75402936247e+14\n",
      "\t-> RSS (bedroom): 4.93364582868e+14\n"
     ]
    }
   ],
   "source": [
    "print \" \\t\\t *** QUIZ  ***\\n\"\n",
    "print \"Q1: What is the predicted price for a house with 2650 sqft?\"\n",
    "print \"\\t-> $%.2f\" % (estimated_price)\n",
    "print \"Q2: What is the RSS for the simple linear regression using squarefeet to predict prices on TRAINING data?\"\n",
    "print \"\\t-> $\" + str(rss_prices_on_sqft) \n",
    "print \"Q3: What is the estimated square-feet for a house costing $800,000?\"\n",
    "print \"\\t-> $\" + str(estimated_squarefeet)\n",
    "print \"Q4: Which model (square feet or bedrooms) has lowest RSS on TEST data?\"\n",
    "print \"\\t-> RSS (square feet): %s\" %(rss_prices_on_sqrt_test)\n",
    "print \"\\t-> RSS (bedroom): %s\" % (rss_prices_on_bedroom_test)"
   ]
  },
  {
   "cell_type": "code",
   "execution_count": null,
   "metadata": {
    "collapsed": true
   },
   "outputs": [],
   "source": []
  },
  {
   "cell_type": "code",
   "execution_count": null,
   "metadata": {
    "collapsed": true
   },
   "outputs": [],
   "source": []
  }
 ],
 "metadata": {
  "kernelspec": {
   "display_name": "Python 2",
   "language": "python",
   "name": "python2"
  },
  "language_info": {
   "codemirror_mode": {
    "name": "ipython",
    "version": 2
   },
   "file_extension": ".py",
   "mimetype": "text/x-python",
   "name": "python",
   "nbconvert_exporter": "python",
   "pygments_lexer": "ipython2",
   "version": "2.7.13"
  }
 },
 "nbformat": 4,
 "nbformat_minor": 1
}
